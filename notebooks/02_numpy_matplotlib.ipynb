{
 "cells": [
  {
   "cell_type": "markdown",
   "id": "0",
   "metadata": {},
   "source": [
    "# Introduksjon til numpy og matplotlib\n",
    "\n",
    "\n",
    "[Numpy](https://numpy.org/) kan installeres ved å bruke et pakkehåndteringssystem som pip eller conda. For eksempel, for å installere numpy med pip, kan du kjøre følgende kommando i terminalen\n",
    "\n",
    "```bash\n",
    "pip install numpy\n",
    "```\n",
    "I jupyer lite kan du installere numpy ved å bruke følgende kommando i en celle:"
   ]
  },
  {
   "cell_type": "code",
   "execution_count": null,
   "id": "1",
   "metadata": {},
   "outputs": [],
   "source": [
    "%pip install numpy"
   ]
  },
  {
   "cell_type": "markdown",
   "id": "2",
   "metadata": {},
   "source": [
    "Vi kan nå importere numpy på følgende måte:"
   ]
  },
  {
   "cell_type": "code",
   "execution_count": null,
   "id": "3",
   "metadata": {},
   "outputs": [],
   "source": [
    "import numpy"
   ]
  },
  {
   "cell_type": "markdown",
   "id": "4",
   "metadata": {},
   "source": [
    "Men, de flere som bruker numpy, bruker ofte aliaset `np` for å gjøre koden mer kompakt. Dette gjøres ved å skrive:"
   ]
  },
  {
   "cell_type": "code",
   "execution_count": null,
   "id": "5",
   "metadata": {},
   "outputs": [],
   "source": [
    "import numpy as np"
   ]
  },
  {
   "cell_type": "markdown",
   "id": "6",
   "metadata": {},
   "source": [
    "Vi kan np bruke `np` på samme måte som vi ville brukt `numpy`. "
   ]
  },
  {
   "cell_type": "markdown",
   "id": "7",
   "metadata": {},
   "source": [
    "## Oppgave\n",
    "\n",
    "Prøv å importere `math` som noe annet ved å bruke et alias (for eksempel `m`). Har du fortsatt den samme funksjonaliteten?\n"
   ]
  },
  {
   "cell_type": "code",
   "execution_count": null,
   "id": "8",
   "metadata": {},
   "outputs": [],
   "source": []
  },
  {
   "cell_type": "markdown",
   "id": "9",
   "metadata": {},
   "source": [
    "## Numpy arrays\n",
    "\n",
    "Numpy arrays minner om lister i python men det er flere vesentlige forskjeller. En av de viktigste forskjellene er at numpy arrays er mer effektive når det gjelder ytelse og minnebruk, spesielt for store datasett. Dette skyldes at numpy arrays er implementert i C og bruker kontinuerlig minneallokering, mens python lister er mer fleksible og kan inneholde elementer av forskjellige datatyper. La oss lage et numpy array og sammenligne det med en liste."
   ]
  },
  {
   "cell_type": "code",
   "execution_count": null,
   "id": "10",
   "metadata": {},
   "outputs": [],
   "source": [
    "x_liste = [1, 2, 3, 4, 5]\n",
    "print(x_liste)\n",
    "x_array = np.array([1, 2, 3, 4, 5])\n",
    "print(x_array)"
   ]
  },
  {
   "cell_type": "markdown",
   "id": "11",
   "metadata": {},
   "source": [
    "Si nå at vi ønsker å lage en ny liste hvor alle elementene er doblet. Dette kan vi gjøre på følgende måte med en liste"
   ]
  },
  {
   "cell_type": "code",
   "execution_count": null,
   "id": "12",
   "metadata": {},
   "outputs": [],
   "source": [
    "x_dobbel_liste = [2 * x for x in x_liste]\n",
    "print(x_dobbel_liste) "
   ]
  },
  {
   "cell_type": "markdown",
   "id": "13",
   "metadata": {},
   "source": [
    "I numpy kan vi gjøre dette på en mye enklere måte:"
   ]
  },
  {
   "cell_type": "code",
   "execution_count": null,
   "id": "14",
   "metadata": {},
   "outputs": [],
   "source": [
    "x_dobbel_array = 2 * x_array\n",
    "print(x_dobbel_array)"
   ]
  },
  {
   "cell_type": "markdown",
   "id": "15",
   "metadata": {},
   "source": [
    "Prøv å se hva som skjer hvis du prøver å gjøre det samme med en liste (alså `2 * x_liste`)"
   ]
  },
  {
   "cell_type": "code",
   "execution_count": null,
   "id": "16",
   "metadata": {},
   "outputs": [],
   "source": [
    "# 2 * x_liste"
   ]
  },
  {
   "cell_type": "markdown",
   "id": "17",
   "metadata": {},
   "source": [
    "Vi skal nå se på hvordan man kan lage numpy arrays på samme måte som vi brukte `range` tidligere. Merk at vi kan gjøre en `range` om til en liste ved å bruke `list(range(...))`"
   ]
  },
  {
   "cell_type": "code",
   "execution_count": null,
   "id": "18",
   "metadata": {},
   "outputs": [],
   "source": [
    "y_list = list(range(1, 12, 3))\n",
    "print(y_list)"
   ]
  },
  {
   "cell_type": "markdown",
   "id": "19",
   "metadata": {},
   "source": [
    "I numpy har vi en tilsvarende funksjon som heter `np.arange(...)` som lager et numpy array med samme type elementer. La oss lage et numpy array som tilsvarer `list(range(1, 12, 3))`"
   ]
  },
  {
   "cell_type": "code",
   "execution_count": null,
   "id": "20",
   "metadata": {},
   "outputs": [],
   "source": [
    "y_array = np.arange(1, 12, 3)\n",
    "print(y_array)"
   ]
  },
  {
   "cell_type": "markdown",
   "id": "21",
   "metadata": {},
   "source": [
    "En annen fordel med `np.arange` er at vi kan lage arrays med desimaler. La oss lage et array som starter på 0, slutter på 2 og har steg på 0.3"
   ]
  },
  {
   "cell_type": "code",
   "execution_count": null,
   "id": "22",
   "metadata": {},
   "outputs": [],
   "source": [
    "y = np.arange(0, 2, 0.3)\n",
    "print(y)"
   ]
  },
  {
   "cell_type": "markdown",
   "id": "23",
   "metadata": {},
   "source": [
    "Her må man være litt påpasselig med at siste element ikke nødvendigvis er med i arrayet. Det er også viktig å merke seg at flyttall kan ha små avrundingsfeil. Ett klassisk eksempel er at `0.1 + 0.2` ikke nødvendigvis er nøyaktig lik `0.3` i et flyttallssystem."
   ]
  },
  {
   "cell_type": "code",
   "execution_count": null,
   "id": "24",
   "metadata": {},
   "outputs": [],
   "source": [
    "0.1 + 0.2 == 0.3"
   ]
  },
  {
   "cell_type": "code",
   "execution_count": null,
   "id": "25",
   "metadata": {},
   "outputs": [],
   "source": [
    "0.1 + 0.2"
   ]
  },
  {
   "cell_type": "markdown",
   "id": "26",
   "metadata": {},
   "source": [
    "En annen nyttig funksjon for å lage numpy arrays er `np.linspace(...)` som lager et array med et gitt antall jevnt fordelte punkter mellom to grenser. La oss lage et array med 5 punkter mellom 0 og 1."
   ]
  },
  {
   "cell_type": "code",
   "execution_count": null,
   "id": "27",
   "metadata": {},
   "outputs": [],
   "source": [
    "y = np.linspace(0, 1, 5)\n",
    "print(y)"
   ]
  },
  {
   "cell_type": "markdown",
   "id": "28",
   "metadata": {},
   "source": [
    "Her ser vi også at endepunktet er inkludert i arrayet.\n",
    "\n",
    "## Oppgave\n",
    "\n",
    "Se om du finner ut hvordan du kan lage et array med 5 punkter mellom 0 og 1 hvor endepunktet ikke er inkludert."
   ]
  },
  {
   "cell_type": "markdown",
   "id": "29",
   "metadata": {},
   "source": [
    "Dobbelklikk for hint\n",
    "<!-- \n",
    "Hint: Sjekk dokumentasjonen for np.linspace ved å skrive `np.linspace?` i en jupyter cellen.\n",
    "-->"
   ]
  },
  {
   "cell_type": "markdown",
   "id": "30",
   "metadata": {},
   "source": []
  },
  {
   "cell_type": "code",
   "execution_count": null,
   "id": "31",
   "metadata": {},
   "outputs": [],
   "source": [
    "# Skriv løsning her"
   ]
  },
  {
   "cell_type": "markdown",
   "id": "32",
   "metadata": {},
   "source": [
    "Dobbelklikk for løsning\n",
    "<!--\n",
    "np.linspace(0, 1, 5, endpoint=False)\n",
    "-->"
   ]
  },
  {
   "cell_type": "markdown",
   "id": "33",
   "metadata": {},
   "source": [
    "Vi kan også anvende funksjoner på numpy arrays. For eksempel kan vi bruke `np.sin(...)` for å finne sinus til alle elementene i et array."
   ]
  },
  {
   "cell_type": "code",
   "execution_count": null,
   "id": "34",
   "metadata": {},
   "outputs": [],
   "source": [
    "x = np.linspace(0, 4 * np.pi, 100)\n",
    "y = np.sin(x)\n",
    "print(y)"
   ]
  },
  {
   "cell_type": "markdown",
   "id": "35",
   "metadata": {},
   "source": [
    "Her blir det litt rotete å printe ut alle verdiene, så her er det mer fornuftig å plotte dem. For dette kan vi bruke et annet bibliotek som heter [`matplotlib`](https://matplotlib.org/). Dette biblioteket kan installeres på samme måte som numpy, for eksempel ved å bruke pip:\n",
    "\n",
    "```bash\n",
    "pip install matplotlib\n",
    "```"
   ]
  },
  {
   "cell_type": "code",
   "execution_count": null,
   "id": "36",
   "metadata": {},
   "outputs": [],
   "source": [
    "%pip install matplotlib"
   ]
  },
  {
   "cell_type": "markdown",
   "id": "37",
   "metadata": {},
   "source": [
    "Her er det igjen også mulig å kun bruke \n",
    "\n",
    "```python\n",
    "import matplotlib\n",
    "```\n",
    "\n",
    "men `matplotlib` inneholder flere moduler, og plotte-funksjonaliteten (som vi er interresert i) ligger i del-pakken `pyplot`. Dette blir alt for langt å skrive hver gang, så vi bruker ofte aliaset `plt` for denne pakken."
   ]
  },
  {
   "cell_type": "code",
   "execution_count": null,
   "id": "38",
   "metadata": {},
   "outputs": [],
   "source": [
    "import matplotlib.pyplot as plt"
   ]
  },
  {
   "cell_type": "markdown",
   "id": "39",
   "metadata": {},
   "source": [
    "Vi kan nå plotte sinus funksjonen ved å bruke `plt.plot(...)` funksjonen:"
   ]
  },
  {
   "cell_type": "code",
   "execution_count": null,
   "id": "40",
   "metadata": {},
   "outputs": [],
   "source": [
    "plt.plot(x, y)"
   ]
  },
  {
   "cell_type": "markdown",
   "id": "41",
   "metadata": {},
   "source": [
    "Det å bare rask plotte noe med `matplotlib` er veldig enkelt, men ofte ønsker man å tilpasse plottene litt mer. For dette er det ofte best å lage en figur og en akse først, og så plotte på aksen. Dette kan gjøres på følgende måte:"
   ]
  },
  {
   "cell_type": "code",
   "execution_count": null,
   "id": "42",
   "metadata": {},
   "outputs": [],
   "source": [
    "fig, ax = plt.subplots()\n",
    "ax.plot(x, y)\n",
    "plt.show()"
   ]
  },
  {
   "cell_type": "markdown",
   "id": "43",
   "metadata": {},
   "source": [
    "I koden over har vi laget en figur (`fig`) og en akse (`ax`). Vi kan nå bruke `ax.plot(...)` for å plotte på aksen, og `plt.show()` for å vise figuren.\n",
    "Vi kan bruke `ax` til å tilpasse aksen, for eksempel ved å legge til tittel og etiketter på aksene. Her er et eksempel hvor vi legger til tittel, etiketter og rutenett:"
   ]
  },
  {
   "cell_type": "code",
   "execution_count": null,
   "id": "44",
   "metadata": {},
   "outputs": [],
   "source": [
    "fig, ax = plt.subplots()\n",
    "ax.plot(x, y)\n",
    "ax.set_title(\"Sinus funksjon\")\n",
    "ax.set_xlabel(\"x verdier\")\n",
    "ax.set_ylabel(\"sin(x) verdier\")\n",
    "ax.grid()\n",
    "plt.show()"
   ]
  },
  {
   "cell_type": "markdown",
   "id": "45",
   "metadata": {},
   "source": [
    "Det er også ofte vanlig å plotte flere datasett i samme figur. Dette kan gjøres ved å kalle `ax.plot(...)` flere ganger. For eksempel kan vi plotte både sinus og cosinus i samme figur"
   ]
  },
  {
   "cell_type": "code",
   "execution_count": null,
   "id": "46",
   "metadata": {},
   "outputs": [],
   "source": [
    "y_sin = np.sin(x)\n",
    "y_cos = np.cos(x)\n",
    "fig, ax = plt.subplots()\n",
    "ax.plot(x, y_sin, label=\"sin(x)\")\n",
    "ax.plot(x, y_cos, label=\"cos(x)\")\n",
    "ax.set_title(\"Sinus og Cosinus funksjoner\")\n",
    "ax.set_xlabel(\"x verdier\")\n",
    "ax.set_ylabel(\"y verdier\")\n",
    "ax.legend()\n",
    "ax.grid()\n",
    "plt.show()"
   ]
  },
  {
   "cell_type": "markdown",
   "id": "47",
   "metadata": {},
   "source": [
    "Her har vi lagt til en legende for å skille de to kurvene. Vi har også brukt forskjellige farger og linjestiler for å gjøre det tydeligere. Hvis vi ønsker en spesiell farge eller linjestil, kan vi spesifisere dette som argumenter i `ax.plot(...)` funksjonen. For eksempel"
   ]
  },
  {
   "cell_type": "code",
   "execution_count": null,
   "id": "48",
   "metadata": {},
   "outputs": [],
   "source": [
    "fig, ax = plt.subplots()\n",
    "ax.plot(x, y_sin, label=\"sin(x)\", linestyle='--', color='blue')\n",
    "ax.plot(x, y_cos, label=\"cos(x)\", linestyle='-', color='red')\n",
    "ax.set_title(\"Sinus og Cosinus funksjoner\")\n",
    "ax.set_xlabel(\"x verdier\")\n",
    "ax.set_ylabel(\"y verdier\")\n",
    "ax.legend()\n",
    "ax.grid()\n",
    "plt.show()"
   ]
  },
  {
   "cell_type": "markdown",
   "id": "49",
   "metadata": {},
   "source": [
    "## Oppgave\n",
    "\n",
    "Plot funksjonene `tan(x)` og `exp(x)` i samme figur for `x` mellom `-1` og `1`. Prøv å bruke forskjellige farger og linjestiler for de forskjellige funksjonene. Husk å legge til en legende, tittel og etiketter på aksene."
   ]
  },
  {
   "cell_type": "code",
   "execution_count": null,
   "id": "50",
   "metadata": {},
   "outputs": [],
   "source": [
    "# Skriv løsning her"
   ]
  },
  {
   "cell_type": "markdown",
   "id": "51",
   "metadata": {},
   "source": [
    "Dobbelklikk for løsning\n",
    "<!--\n",
    "x = np.linspace(-1, 1, 100)\n",
    "y_tan = np.tan(x)\n",
    "y_exp = np.exp(x)\n",
    "fig, ax = plt.subplots()\n",
    "ax.plot(x, y_tan, label=\"tan(x)\", linestyle='--', color='magenta')\n",
    "ax.plot(x, y_exp, label=\"exp(x)\", linestyle='-', color='cyan')\n",
    "ax.set_title(\"Tangens og Eksponentialfunksjoner\")\n",
    "ax.set_xlabel(\"x verdier\")\n",
    "ax.set_ylabel(\"y verdier\")\n",
    "ax.legend()\n",
    "ax.grid()\n",
    "plt.show()\n",
    "-->"
   ]
  },
  {
   "cell_type": "markdown",
   "id": "52",
   "metadata": {},
   "source": [
    "### Operasjoner på arrays\n",
    "\n",
    "Vi har sett at vi kan bruke funksjoner som `np.sin(...)` på numpy arrays. Dette fungerer for mange matematiske funksjoner som `np.cos(...)`, `np.tan(...)`, `np.exp(...)`, `np.log(...)`, osv. I tillegg kan vi også bruke vanlige matematiske operasjoner som `+`, `-`, `*`, `/`, og `**` på numpy arrays. Disse operasjonene blir da utført elementvis på arrayet. For eksempel:"
   ]
  },
  {
   "cell_type": "code",
   "execution_count": null,
   "id": "53",
   "metadata": {},
   "outputs": [],
   "source": [
    "x = np.linspace(0, 1, 100)\n",
    "y = (x - 0.5) ** 2\n",
    "z = (x - 0.1) * (x - 0.9) * (x - 0.5)\n",
    "fig, ax = plt.subplots()\n",
    "ax.plot(x, y, label=\"(x - 0.5)^2\", color='green')\n",
    "ax.plot(x, z, label=\"(x - 0.1)(x - 0.9)(x - 0.5)\", color='orange')\n",
    "ax.set_title(\"To polynom funksjoner\")\n",
    "ax.set_xlabel(\"x verdier\")\n",
    "ax.set_ylabel(\"y verdier\")\n",
    "ax.legend()\n",
    "ax.grid()\n",
    "plt.show()"
   ]
  },
  {
   "cell_type": "markdown",
   "id": "54",
   "metadata": {},
   "source": [
    "### Oppgave\n",
    "\n",
    "Plot funksjonen\n",
    "\n",
    "$$\n",
    "y = \\sin(x)\n",
    "$$\n",
    "\n",
    "og \n",
    "\n",
    "$$\n",
    "z = \\sum_{n=0}^{N} \\frac{(-1)^n x^{2n+1}}{(2n+1)!} = x - \\frac{x^3}{3!} + \\frac{x^5}{5!} - \\frac{x^7}{7!} + \\ldots\n",
    "$$\n",
    "\n",
    "i samme plot, hvor $x$ ligger mellom $-\\pi$ og $\\pi$.\n",
    "\n",
    "Start med `N = 1` og øk `N` for å se hva som skjer. "
   ]
  },
  {
   "cell_type": "markdown",
   "id": "55",
   "metadata": {},
   "source": [
    "Dobbelklikk for hint 1\n",
    "<!--\n",
    "Hint: Du kan bruke `math.factorial(...)` for å finne fakultetet til et tall\n",
    "-->\n"
   ]
  },
  {
   "cell_type": "code",
   "execution_count": null,
   "id": "56",
   "metadata": {},
   "outputs": [],
   "source": []
  },
  {
   "cell_type": "markdown",
   "id": "57",
   "metadata": {},
   "source": [
    "Dobbelklikk for løsning\n",
    "<!--\n",
    "import math\n",
    "\n",
    "x = np.linspace(-np.pi, np.pi, 100)\n",
    "y = np.sin(x)\n",
    "z1 = x\n",
    "z2 = x - x**3 / math.factorial(3)\n",
    "z3 = x - x**3 / math.factorial(3) + x**5 / math.factorial(5)\n",
    "z4 = x - x**3 / math.factorial(3) + x**5 / math.factorial(5) - x**7 / math.factorial(7)\n",
    "z5 = x - x**3 / math.factorial(3) + x**5 / math.factorial(5) - x**7 / math.factorial(7) + x**9 / math.factorial(9)\n",
    "\n",
    "fig, ax = plt.subplots()\n",
    "ax.plot(x, y, label=\"sin(x)\", color='blue')\n",
    "ax.plot(x, z1, label=f\"Taylor polynom grad 1\", color='red', linestyle='--')\n",
    "ax.plot(x, z2, label=f\"Taylor polynom grad 3\", color='green', linestyle='--')\n",
    "ax.plot(x, z3, label=f\"Taylor polynom grad 5\", color='orange', linestyle='--')\n",
    "ax.plot(x, z4, label=f\"Taylor polynom grad 7\", color='purple', linestyle='--')\n",
    "ax.plot(x, z5, label=f\"Taylor polynom grad 9\", color='brown', linestyle='--')\n",
    "ax.set_title(\"Sinus funksjon og Taylor polynom\")\n",
    "ax.set_xlabel(\"x verdier\")\n",
    "ax.set_ylabel(\"y verdier\")\n",
    "ax.legend()\n",
    "plt.show()\n",
    "-->"
   ]
  },
  {
   "cell_type": "markdown",
   "id": "58",
   "metadata": {},
   "source": []
  }
 ],
 "metadata": {
  "kernelspec": {
   "display_name": "venv (3.12.9)",
   "language": "python",
   "name": "python3"
  },
  "language_info": {
   "codemirror_mode": {
    "name": "ipython",
    "version": 3
   },
   "file_extension": ".py",
   "mimetype": "text/x-python",
   "name": "python",
   "nbconvert_exporter": "python",
   "pygments_lexer": "ipython3",
   "version": "3.12.9"
  }
 },
 "nbformat": 4,
 "nbformat_minor": 5
}
