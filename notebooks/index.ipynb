{
 "cells": [
  {
   "cell_type": "markdown",
   "id": "0",
   "metadata": {},
   "source": [
    "# Skolebesøk av på Simula av NRG\n",
    "\n",
    "Dette materialet ble skrevet i forbindelse med at NRG (Norges Realfagsgymnas) besøkte Simula Research Laboratory for å lære litt om Python og numeriske beregninger. Materialet er ment å være en introduksjon til grunnleggende Python-programmering, med fokus på bruk av Jupyter Notebook som et verktøy for interaktiv koding og dokumentasjon.\n",
    "\n",
    "Her er en oversikt over hva som blir dekket i materialet:\n",
    "\n",
    "- [Introduksjon til jupyter notebook og basic aritmetikk i Python](01_basics.ipynb)\n",
    "- [Numeriske beregninger med numpy](02_numpy.ipynb)\n",
    "- [Plotting med matplotlib](03_matplotlib.ipynb)\n",
    "\n"
   ]
  }
 ],
 "metadata": {
  "language_info": {
   "name": "python"
  }
 },
 "nbformat": 4,
 "nbformat_minor": 5
}
