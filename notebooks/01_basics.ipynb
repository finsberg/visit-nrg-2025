{
 "cells": [
  {
   "cell_type": "markdown",
   "id": "0",
   "metadata": {},
   "source": [
    "# "
   ]
  },
  {
   "cell_type": "markdown",
   "id": "1",
   "metadata": {},
   "source": [
    "# Introduksjon til jupyter notebook og basic aritmetikk i Python\n",
    "\n",
    "[Jupyter notebook](https://jupyter.org/) er et interaktivt miljø for å skrive og kjøre kode, lage dokumentasjon, og visualisere data. Det er spesielt populært innen dataanalyse, maskinlæring, og vitenskapelig forskning.\n",
    "\n",
    "I denne introduksjonen vil vi bruke en versjon av jupyter notebook som kjører i nettleseren din (som heter [jupyter lite](https://jupyter.org/try-jupyter/lite)), slik at du ikke trenger å installere noe på din egen maskin.\n",
    "\n",
    "JuPyteR er et akronym som står for **Ju**lia, **Py**thon, og **R**, som er tre populære programmeringsspråk. Jupyter støtter mange forskjellige programmeringsspråk, men Python er det mest brukte.\n",
    "\n",
    "## Komme i gang\n",
    "\n",
    "For å kjøre en celle, trykk `Shift + Enter` eller klikk på \"Run\"-knappen i verktøylinjen. I eksempelet under er det en enkel Python-kode som definerer en variabel `x` og skriver den ut."
   ]
  },
  {
   "cell_type": "markdown",
   "id": "2",
   "metadata": {},
   "source": [
    "x = 42\n",
    "print(x)"
   ]
  },
  {
   "cell_type": "markdown",
   "id": "3",
   "metadata": {},
   "source": [
    "Vi kan endre verdien av `x` og kjøre cellen på nytt for å se den oppdaterte verdien."
   ]
  },
  {
   "cell_type": "code",
   "execution_count": null,
   "id": "4",
   "metadata": {},
   "outputs": [],
   "source": [
    "x = x + 1\n",
    "print(x)"
   ]
  },
  {
   "cell_type": "markdown",
   "id": "5",
   "metadata": {},
   "source": [
    "I python kan vi også utføre operasjoner på en variable ved å bruke `+=`, `-=`, `*=`, og `/=`. For eksempel, for å øke verdien av `x` med 1, kan vi skrive:"
   ]
  },
  {
   "cell_type": "code",
   "execution_count": null,
   "id": "6",
   "metadata": {},
   "outputs": [],
   "source": [
    "x += 1\n",
    "print(x)"
   ]
  },
  {
   "cell_type": "markdown",
   "id": "7",
   "metadata": {},
   "source": [
    "## Oppgave\n",
    "\n",
    "Forsøk å endre verdien av `x` i cellen under og kjør den på nytt for å se resultatet. Førsøk også å bruke ulike operasjoner som `+=`, `-=`, `*=`, og `/=` på `x` og se hvordan verdien endres."
   ]
  },
  {
   "cell_type": "code",
   "execution_count": null,
   "id": "8",
   "metadata": {},
   "outputs": [],
   "source": [
    "# x *= 2"
   ]
  },
  {
   "cell_type": "markdown",
   "id": "9",
   "metadata": {},
   "source": [
    "## Løkker\n",
    "\n",
    "Programmering handler ofte om å utføre repeterende oppgaver. I Python kan vi bruke løkker for å gjøre dette. En `for`-løkke lar oss iterere over en sekvens av verdier, mens en `while`-løkke fortsetter å kjøre så lenge en betingelse er sann.\n",
    "\n",
    "For å illustrere en `for`-løkke, kan vi bruke den til å skrive ut tallene fra 0 til 4:"
   ]
  },
  {
   "cell_type": "code",
   "execution_count": null,
   "id": "10",
   "metadata": {},
   "outputs": [],
   "source": [
    "for i in [0, 1, 2, 3, 4]:\n",
    "    print(i)"
   ]
  },
  {
   "cell_type": "markdown",
   "id": "11",
   "metadata": {},
   "source": [
    "Her itererer vi over en liste med tallene 0 til 4, og skriver ut hvert tall i listen. I python har vi også en innebygd funksjon som heter `range()`, som genererer en sekvens av tall.\n",
    "Vi kan bruke `range(5)` for å generere tallene fra 0 til 4:"
   ]
  },
  {
   "cell_type": "code",
   "execution_count": null,
   "id": "12",
   "metadata": {},
   "outputs": [],
   "source": [
    "for i in range(5):\n",
    "    print(i)"
   ]
  },
  {
   "cell_type": "markdown",
   "id": "13",
   "metadata": {},
   "source": [
    "`range(start, stop, step)` genererer tall fra `start` til `stop - 1`, med et trinn på `step`. Hvis `start` ikke er spesifisert, starter den på 0. Hvis `step` ikke er spesifisert, er det 1 som standard. For eksempel, `range(1, 10, 2)` genererer tallene 1, 3, 5, 7, og 9."
   ]
  },
  {
   "cell_type": "code",
   "execution_count": null,
   "id": "14",
   "metadata": {},
   "outputs": [],
   "source": [
    "for i in range(1, 10, 2):\n",
    "    print(i)"
   ]
  },
  {
   "cell_type": "markdown",
   "id": "15",
   "metadata": {},
   "source": [
    "Prøv gjerne å endre argumentene i `range()` for å se hvordan det påvirker tallene som genereres.\n",
    "\n",
    "Merk også at python bruker innrykk (indentation) for å definere blokker med kode. Alt som er innrykket under `for`-setningen, vil bli kjørt i hver iterasjon av løkken. Hvor mye innrykk som brukes er viktig så lenge du bruker like mye (2 mellomrom, 4 mellomrom, osv. eller tabulator(TAB)), men det vanligste er 4 mellomrom, og de fleste editorer (inkludert jupyter notebook) gjør TAB til 4 mellomrom automatisk.\n",
    "\n",
    "Vi kan også oppdatere en variable inne i en løkke. For eksempel, for å doble verdien av `x` fem ganger, kan vi skrive:"
   ]
  },
  {
   "cell_type": "code",
   "execution_count": null,
   "id": "16",
   "metadata": {},
   "outputs": [],
   "source": [
    "x = 1\n",
    "for i in range(5):\n",
    "    x *= 2\n",
    "print(x)"
   ]
  },
  {
   "cell_type": "markdown",
   "id": "17",
   "metadata": {},
   "source": [
    "Du kan også prøve å flytte print-setningen inn i løkken for å se verdiene av `x` på hver iterasjon.\n",
    "\n",
    "Veldig ofte har vi flere enn en variabel som vi ønsker å oppdatere i en løkke. For eksempel, for å generere Fibonacci-sekvensen, trenger vi to variabler for å holde styr på de to siste tallene i sekvensen.\n",
    "For eksempel hvis vi ønsker å doble verdien av `x` men sørge for at vi holder styr på den forige verdien av `x`, kan vi gjøre det slik:"
   ]
  },
  {
   "cell_type": "code",
   "execution_count": null,
   "id": "18",
   "metadata": {},
   "outputs": [],
   "source": [
    "x = 1\n",
    "y = x  # Initialiser y med verdien av x før løkken starter (er dette nødvendig?) \n",
    "for i in range(5):\n",
    "    y = x # Oppdater y med den nåværende verdien av x (har det noe å si om vi gjør dette før eller etter at vi oppdaterer x?)\n",
    "    x *= 2\n",
    "print(x, y)"
   ]
  },
  {
   "cell_type": "markdown",
   "id": "19",
   "metadata": {},
   "source": [
    "Forsøk gjerne å endre på rekkefølgen av oppdateringene av `x` og `y` i løkken og se hvordan det påvirker resultatet. Du kan også prøve å flytte print-setningen inn i løkken for å se verdiene av `x` og `y` på hver iterasjon."
   ]
  },
  {
   "cell_type": "markdown",
   "id": "20",
   "metadata": {},
   "source": [
    "### Oppgave - print de første 10 tallene i Fibonacci-sekvensen\n",
    "\n",
    "Fibonacci-sekvensen er en serie av tall der hvert tall er summen av de to foregående tallene. Sekvensen starter vanligvis med 0 og 1. De første ti tallene i Fibonacci-sekvensen er: 0, 1, 1, 2, 3, 5, 8, 13, 21, 34.\n",
    "\n",
    "Skriv en `for`-løkke som genererer og skriver ut de første ti tallene i Fibonacci-sekvensen."
   ]
  },
  {
   "cell_type": "markdown",
   "id": "21",
   "metadata": {
    "tags": [
     "hide-input"
    ]
   },
   "source": [
    "Hint: start med å definere to variabler `a` og `b` som representerer de to første tallene i sekvensen, og en tredje variabel `c` som vil holde det neste tallet i sekvensen.\n",
    "\n",
    "$$\n",
    "a = 0 \\\\\n",
    "b = 1 \\\\\n",
    "c = a + b \\\\\n",
    "$$"
   ]
  },
  {
   "cell_type": "code",
   "execution_count": null,
   "id": "22",
   "metadata": {},
   "outputs": [],
   "source": []
  },
  {
   "cell_type": "code",
   "execution_count": null,
   "id": "23",
   "metadata": {
    "tags": [
     "hide-input",
     "hide-output"
    ]
   },
   "outputs": [],
   "source": [
    "a = 0\n",
    "b = 1\n",
    "for i in range(10):\n",
    "    c = a + b\n",
    "    a = b\n",
    "    b = c\n",
    "    print(a, b, c)"
   ]
  },
  {
   "cell_type": "markdown",
   "id": "24",
   "metadata": {},
   "source": [
    "## Lister\n",
    "\n",
    "Noen ganger ønsker vi å lagre flere verdier i en enkelt variabel. I Python kan vi bruke lister for dette. En liste er en samling av elementer som kan være av forskjellige typer, inkludert tall, strenger, eller til og med andre lister.\n"
   ]
  },
  {
   "cell_type": "code",
   "execution_count": null,
   "id": "25",
   "metadata": {},
   "outputs": [],
   "source": [
    "x = [1, 2, 3]\n",
    "print(x)"
   ]
  },
  {
   "cell_type": "markdown",
   "id": "26",
   "metadata": {},
   "source": [
    "Vi kan også legge til elementer i en liste ved å bruke metoden `append()`. For eksempel, for å legge til tallet 4 i listen `x`, kan vi skrive:"
   ]
  },
  {
   "cell_type": "code",
   "execution_count": null,
   "id": "27",
   "metadata": {},
   "outputs": [],
   "source": [
    "x.append(4)\n",
    "print(x)"
   ]
  },
  {
   "cell_type": "markdown",
   "id": "28",
   "metadata": {},
   "source": [
    "Vi kan bruke lister til å lagre resultatene underveis i en løkke. For eksempel, for å lagre de 5 første toerpotensnene (2^0, 2^1, 2^2, 2^3, 2^4), kan vi gjøre følgende:"
   ]
  },
  {
   "cell_type": "code",
   "execution_count": null,
   "id": "29",
   "metadata": {},
   "outputs": [],
   "source": [
    "x = []\n",
    "for i in range(10):\n",
    "    x.append(2**i)\n",
    "print(x)"
   ]
  },
  {
   "cell_type": "markdown",
   "id": "30",
   "metadata": {},
   "source": [
    "Vi kan også akksessere elementer i en liste ved å bruke indeksering. Indekseringen starter på 0, så det første elementet i listen har indeks 0, det andre elementet har indeks 1, og så videre. For eksempel, for å få det tredje elementet i listen `x`, kan vi skrive:"
   ]
  },
  {
   "cell_type": "code",
   "execution_count": null,
   "id": "31",
   "metadata": {},
   "outputs": [],
   "source": [
    "print(x[2])  # Tredje element i listen (indeksering starter på 0)"
   ]
  },
  {
   "cell_type": "markdown",
   "id": "32",
   "metadata": {},
   "source": [
    "### Oppgave - Lag en liste med de første 10 Fibonacci-tallene\n",
    "\n",
    "Skriv en `for`-løkke som genererer de første ti tallene i Fibonacci-sekvensen og lagrer dem i en liste. Kan du forenkle koden ved å bruke lister?"
   ]
  },
  {
   "cell_type": "markdown",
   "id": "33",
   "metadata": {
    "tags": [
     "hide-input"
    ]
   },
   "source": [
    "Hint:\n",
    "Vi kan skrive Fibonacci-sekvensen matematisk som:\n",
    "\n",
    "$$\n",
    "F(n) = F(n-1) + F(n-2)\n",
    "$$\n",
    "\n",
    "med startverdier:\n",
    "\n",
    "$$\n",
    "F(0) = 0 \\\\\n",
    "F(1) = 1\n",
    "$$"
   ]
  },
  {
   "cell_type": "code",
   "execution_count": null,
   "id": "34",
   "metadata": {},
   "outputs": [],
   "source": []
  },
  {
   "cell_type": "code",
   "execution_count": null,
   "id": "35",
   "metadata": {
    "tags": [
     "hide-input",
     "hide-output"
    ]
   },
   "outputs": [],
   "source": [
    "x = [0, 1]\n",
    "for i in range(2, 10):\n",
    "    x.append(x[i-1] + x[i-2])\n",
    "print(x)"
   ]
  },
  {
   "cell_type": "markdown",
   "id": "36",
   "metadata": {},
   "source": [
    "### List comprehensions\n",
    "\n",
    "Dersom man ønsker å lage en liste basert på en eksisterende liste eller en sekvens av tall, kan man bruke list comprehensions. Dette er en kortfattet og effektiv måte å lage lister på. Her er et eksempel på en liste comprehension som lager en liste med kvadrater av tallene fra 1 til 5:"
   ]
  },
  {
   "cell_type": "code",
   "execution_count": null,
   "id": "37",
   "metadata": {},
   "outputs": [],
   "source": [
    "y = [x**2 for x in range(1, 6)]\n",
    "print(y)"
   ]
  },
  {
   "cell_type": "markdown",
   "id": "38",
   "metadata": {},
   "source": [
    "Dette er ofte mer effektivt og lesbart enn å bruke en `for`-løkke for å bygge opp listen. I en jupyter notebook kan vi bruke `%%timeit` for å måle hvor lang tid det tar å kjøre en celle. La oss sammenligne ytelsen til en liste comprehension med en `for`-løkke for å lage en liste med kvadrater av tallene fra 1 til 10 millioner:"
   ]
  },
  {
   "cell_type": "code",
   "execution_count": null,
   "id": "39",
   "metadata": {},
   "outputs": [],
   "source": [
    "%%timeit\n",
    "x = [x**2 for x in range(1, 10_000_000)]"
   ]
  },
  {
   "cell_type": "code",
   "execution_count": null,
   "id": "40",
   "metadata": {},
   "outputs": [],
   "source": [
    "%%timeit\n",
    "y = []\n",
    "for i in range(1, 10_000_000):\n",
    "    y.append(i**2)"
   ]
  },
  {
   "cell_type": "markdown",
   "id": "41",
   "metadata": {},
   "source": [
    "Det var ikke veldig stor forskjell i dette tilfellet, men i andre situasjoner kan det være betydelig forskjell i ytelse, spesielt for større datasett. Vi kan også argumentere med at list comprehensions ofte er mer lesbare og uttrykksfulle enn tradisjonelle løkker.\n"
   ]
  },
  {
   "cell_type": "markdown",
   "id": "42",
   "metadata": {},
   "source": [
    "## Importere biblioteker\n",
    "\n",
    "I mange tilfeller ønsker vi å bruke funksjonalitet som ikke er direkte innebygd i Python. For dette kan vi bruke biblioteker (libraries) som er samlinger av funksjoner og klasser som kan hjelpe oss med spesifikke oppgaver. Python har et stort standardbibliotek som inneholder mange nyttige moduler, og det finnes også mange tredjepartsbiblioteker som kan installeres for å utvide funksjonaliteten til Python. For å importere et bibliotek, bruker vi `import`-setningen. For eksempel, for å importere matematikbiblioteket `math`, kan vi skrive:"
   ]
  },
  {
   "cell_type": "code",
   "execution_count": null,
   "id": "43",
   "metadata": {},
   "outputs": [],
   "source": [
    "import math\n"
   ]
  },
  {
   "cell_type": "markdown",
   "id": "44",
   "metadata": {},
   "source": [
    "For å se hvilke funksjoner og konstanter som er tilgjengelige i `math`-biblioteket, kan vi i jupyter notebook starte med å skrive navnet på biblioteket etterfulgt av en punktum (`.`) og deretter trykke `Tab`-tasten. Dette vil vise en liste over tilgjengelige funksjoner og konstanter i biblioteket."
   ]
  },
  {
   "cell_type": "code",
   "execution_count": null,
   "id": "45",
   "metadata": {},
   "outputs": [],
   "source": [
    "# Forsøk å skrive math. etterfulgt av Tab-tasten for å se tilgjengelige funksjoner og konstanter"
   ]
  },
  {
   "cell_type": "markdown",
   "id": "46",
   "metadata": {},
   "source": [
    "En annen veldig nyttig funksjonalitet i jupyter notebook er at vi kan bruke `?` for å få hjelp om en funksjon eller et objekt. For eksempel, for å få hjelp om `math.sqrt`-funksjonen, kan vi skrive:\n",
    "\n",
    "```python\n",
    "math.sqrt?\n",
    "```\n",
    "Dette vil vise dokumentasjonen for `math.sqrt`-funksjonen, inkludert en beskrivelse av hva den gjør, hvilke argumenter den tar, og hva den returnerer. Forsøk å se på dokumentasjonen for noen andre funksjoner i `math`-biblioteket ved å bruke `?`."
   ]
  },
  {
   "cell_type": "code",
   "execution_count": null,
   "id": "47",
   "metadata": {},
   "outputs": [],
   "source": [
    "# Skrive math.sqrt? for å se dokumentasjonen for funksjonen"
   ]
  },
  {
   "cell_type": "markdown",
   "id": "48",
   "metadata": {},
   "source": [
    "### Bonus\n",
    "\n",
    "Python har mange \"easter eggs\" og morsomme funksjoner innebygd. En av dem er `import this`, som importerer \"The Zen of Python\", en samling av prinsipper for å skrive god Python-kode. Prøv å kjøre `import this` i en celle for å se hva som skjer!"
   ]
  },
  {
   "cell_type": "code",
   "execution_count": null,
   "id": "49",
   "metadata": {},
   "outputs": [],
   "source": []
  },
  {
   "cell_type": "markdown",
   "id": "50",
   "metadata": {},
   "source": [
    "## Lister for numeriske beregninger\n",
    "\n",
    "Lister er veldig fleksible og kan inneholde elementer av forskjellige typer, inkludert tall, strenger og til og med andre lister. Dette gjør dem til et veldig fleksibelt verktøy for å lagre og manipulere data. For eksempel kan vi lage en liste som inneholder både tall og strenger:"
   ]
  },
  {
   "cell_type": "code",
   "execution_count": null,
   "id": "51",
   "metadata": {},
   "outputs": [],
   "source": [
    "x = [1, \"to\", 3.0] # Liste med heltall, streng og flyttall\n",
    "print(x)\n",
    "\n",
    "print(type(x))  # Sjekk typen til variabelen x\n",
    "print(type(x[0]))  # Sjekk typen til det første elementet i listen\n",
    "print(type(x[1]))  # Sjekk typen til det andre elementet i listen\n",
    "print(type(x[2]))  # Sjekk typen til det tredje elementet i listen"
   ]
  },
  {
   "cell_type": "markdown",
   "id": "52",
   "metadata": {},
   "source": [
    "Vi kan til og med lage lister som inneholder andre lister"
   ]
  },
  {
   "cell_type": "code",
   "execution_count": null,
   "id": "53",
   "metadata": {},
   "outputs": [],
   "source": [
    "x = [1, 2, 3]\n",
    "y = [4, 5, 6]\n",
    "z = [7, 8, 9]\n",
    "nested_list = [x, y, z]\n",
    "print(nested_list)\n"
   ]
  },
  {
   "cell_type": "markdown",
   "id": "54",
   "metadata": {},
   "source": [
    "Når vi jobber med numeriske beregninger, kan det være mer effektivt å bruke numpy-arrays i stedet for lister. Numpy er et bibliotek for numeriske beregninger i Python som gir oss muligheten til å jobbe med store datasett på en effektiv måte. Numpy-arrays er optimalisert for numeriske operasjoner og kan utføre operasjoner på hele arrays samtidig, noe som gjør dem mye raskere enn lister for store datasett.\n",
    "\n",
    "Numpy kan installeres ved å bruke et pakkehåndteringssystem som pip eller conda. For eksempel, for å installere numpy med pip, kan du kjøre følgende kommando i terminalen\n",
    "\n",
    "```bash\n",
    "pip install numpy\n",
    "```\n",
    "I jupyer lite kan du installere numpy ved å bruke følgende kommando i en celle:"
   ]
  },
  {
   "cell_type": "code",
   "execution_count": null,
   "id": "55",
   "metadata": {},
   "outputs": [],
   "source": [
    "%pip install numpy"
   ]
  },
  {
   "cell_type": "markdown",
   "id": "56",
   "metadata": {},
   "source": [
    "Fortsett til [02_numpy.ipynb](./02_numpy.ipynb) for å lære mer om numpy og hvordan du kan bruke det til numeriske beregninger i Python."
   ]
  },
  {
   "cell_type": "markdown",
   "id": "57",
   "metadata": {},
   "source": []
  }
 ],
 "metadata": {
  "kernelspec": {
   "display_name": "gmsh",
   "language": "python",
   "name": "python3"
  },
  "language_info": {
   "codemirror_mode": {
    "name": "ipython",
    "version": 3
   },
   "file_extension": ".py",
   "mimetype": "text/x-python",
   "name": "python",
   "nbconvert_exporter": "python",
   "pygments_lexer": "ipython3",
   "version": "3.13.3"
  }
 },
 "nbformat": 4,
 "nbformat_minor": 5
}
