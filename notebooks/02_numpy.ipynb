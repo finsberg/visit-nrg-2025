{
 "cells": [
  {
   "cell_type": "markdown",
   "id": "0",
   "metadata": {},
   "source": [
    "# Introduksjon til numpy\n",
    "\n",
    "\n",
    "Numpy kan installeres ved å bruke et pakkehåndteringssystem som pip eller conda. For eksempel, for å installere numpy med pip, kan du kjøre følgende kommando i terminalen\n",
    "\n",
    "```bash\n",
    "pip install numpy\n",
    "```\n",
    "I jupyer lite kan du installere numpy ved å bruke følgende kommando i en celle:"
   ]
  },
  {
   "cell_type": "code",
   "execution_count": null,
   "id": "1",
   "metadata": {
    "vscode": {
     "languageId": "plaintext"
    }
   },
   "outputs": [],
   "source": [
    "%pip install numpy"
   ]
  },
  {
   "cell_type": "markdown",
   "id": "2",
   "metadata": {},
   "source": []
  }
 ],
 "metadata": {
  "language_info": {
   "name": "python"
  }
 },
 "nbformat": 4,
 "nbformat_minor": 5
}
